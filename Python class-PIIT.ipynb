{
 "cells": [
  {
   "cell_type": "markdown",
   "id": "7244e642",
   "metadata": {},
   "source": [
    "LIST"
   ]
  },
  {
   "cell_type": "code",
   "execution_count": 3,
   "id": "d7a1232c",
   "metadata": {},
   "outputs": [],
   "source": [
    "x1=[1,2,\"Ome\",True,1.25]"
   ]
  },
  {
   "cell_type": "code",
   "execution_count": 4,
   "id": "ecbbd5b1",
   "metadata": {},
   "outputs": [
    {
     "data": {
      "text/plain": [
       "list"
      ]
     },
     "execution_count": 4,
     "metadata": {},
     "output_type": "execute_result"
    }
   ],
   "source": [
    "type(x1)"
   ]
  },
  {
   "cell_type": "markdown",
   "id": "3c7cf45c",
   "metadata": {},
   "source": [
    "# Indexing -find the position of a member of the list"
   ]
  },
  {
   "cell_type": "code",
   "execution_count": 5,
   "id": "2422f8b4",
   "metadata": {},
   "outputs": [
    {
     "data": {
      "text/plain": [
       "1"
      ]
     },
     "execution_count": 5,
     "metadata": {},
     "output_type": "execute_result"
    }
   ],
   "source": [
    "x1.index(2)"
   ]
  },
  {
   "cell_type": "markdown",
   "id": "655b466a",
   "metadata": {},
   "source": [
    "# Range"
   ]
  },
  {
   "cell_type": "code",
   "execution_count": 13,
   "id": "19f0ff11",
   "metadata": {},
   "outputs": [],
   "source": [
    "range_list=[1,2,4,6,7,9]"
   ]
  },
  {
   "cell_type": "code",
   "execution_count": 14,
   "id": "7c4e6c2d",
   "metadata": {},
   "outputs": [
    {
     "name": "stdout",
     "output_type": "stream",
     "text": [
      "[1, 2, 4, 6, 7, 9]\n"
     ]
    }
   ],
   "source": [
    "print(range_list)"
   ]
  },
  {
   "cell_type": "code",
   "execution_count": 15,
   "id": "63070d9d",
   "metadata": {},
   "outputs": [],
   "source": [
    "X2=[1,2,1,3,5,4,7,6]"
   ]
  },
  {
   "cell_type": "code",
   "execution_count": 16,
   "id": "d638b3b2",
   "metadata": {},
   "outputs": [],
   "source": [
    "X2.sort()"
   ]
  },
  {
   "cell_type": "code",
   "execution_count": 17,
   "id": "42f3c404",
   "metadata": {},
   "outputs": [
    {
     "name": "stdout",
     "output_type": "stream",
     "text": [
      "[1, 1, 2, 3, 4, 5, 6, 7]\n"
     ]
    }
   ],
   "source": [
    "print(X2)"
   ]
  },
  {
   "cell_type": "code",
   "execution_count": 18,
   "id": "033525ac",
   "metadata": {},
   "outputs": [],
   "source": [
    "X2.sort(reverse=True)"
   ]
  },
  {
   "cell_type": "code",
   "execution_count": 19,
   "id": "841f5ac6",
   "metadata": {},
   "outputs": [
    {
     "name": "stdout",
     "output_type": "stream",
     "text": [
      "[7, 6, 5, 4, 3, 2, 1, 1]\n"
     ]
    }
   ],
   "source": [
    "print(X2)"
   ]
  },
  {
   "cell_type": "markdown",
   "id": "f4bff718",
   "metadata": {},
   "source": [
    "# Seperator"
   ]
  },
  {
   "cell_type": "code",
   "execution_count": 20,
   "id": "8763118c",
   "metadata": {},
   "outputs": [
    {
     "name": "stdout",
     "output_type": "stream",
     "text": [
      "1,,,2,,,3\n"
     ]
    }
   ],
   "source": [
    "print(1,2,3,sep=\",,,\")"
   ]
  },
  {
   "cell_type": "code",
   "execution_count": 21,
   "id": "3dadc358",
   "metadata": {},
   "outputs": [
    {
     "name": "stdout",
     "output_type": "stream",
     "text": [
      "Ashikur-Rahman\n",
      "\n",
      "I am\n"
     ]
    }
   ],
   "source": [
    "print(\"Ashikur\",\"Rahman\", sep=\"-\", end=\"\\n\\n\")\n",
    "print(\"I am\" )"
   ]
  },
  {
   "cell_type": "code",
   "execution_count": 22,
   "id": "5cab3a0c",
   "metadata": {},
   "outputs": [
    {
     "name": "stdout",
     "output_type": "stream",
     "text": [
      "1 2 3...."
     ]
    }
   ],
   "source": [
    "print(1,2,3,end=\"....\")"
   ]
  },
  {
   "cell_type": "markdown",
   "id": "9d59ec10-fea4-45df-a34a-4d38e7edd778",
   "metadata": {},
   "source": [
    "# Directory of tuple"
   ]
  },
  {
   "cell_type": "code",
   "execution_count": 23,
   "id": "c5857740-81f5-43cc-b96c-7ebabf9f7270",
   "metadata": {},
   "outputs": [
    {
     "name": "stdout",
     "output_type": "stream",
     "text": [
      "['__add__', '__class__', '__class_getitem__', '__contains__', '__delattr__', '__dir__', '__doc__', '__eq__', '__format__', '__ge__', '__getattribute__', '__getitem__', '__getnewargs__', '__gt__', '__hash__', '__init__', '__init_subclass__', '__iter__', '__le__', '__len__', '__lt__', '__mul__', '__ne__', '__new__', '__reduce__', '__reduce_ex__', '__repr__', '__rmul__', '__setattr__', '__sizeof__', '__str__', '__subclasshook__', 'count', 'index'] \t\n"
     ]
    }
   ],
   "source": [
    "print(dir(tuple),\"\\t\")"
   ]
  },
  {
   "cell_type": "markdown",
   "id": "00972fa3-36e6-460c-900b-837e6736cd4d",
   "metadata": {},
   "source": [
    "# Dictionary"
   ]
  },
  {
   "cell_type": "code",
   "execution_count": 24,
   "id": "8ded1fcc-fa25-456b-a0c1-c49c962e1d1d",
   "metadata": {},
   "outputs": [],
   "source": [
    "student={\"Name\": \"Ashik\",\n",
    "         \"Age\":39,\n",
    "        \"GPA\":3.5}"
   ]
  },
  {
   "cell_type": "code",
   "execution_count": 25,
   "id": "ffed3625-02d6-4a39-b690-c8fe2cb6a8ab",
   "metadata": {},
   "outputs": [
    {
     "name": "stdout",
     "output_type": "stream",
     "text": [
      "{'Name': 'Ashik', 'Age': 39, 'GPA': 3.5}\n"
     ]
    }
   ],
   "source": [
    "print(student)"
   ]
  },
  {
   "cell_type": "code",
   "execution_count": 26,
   "id": "e136722c-5d1c-4342-99e1-87fca0b9ac4d",
   "metadata": {},
   "outputs": [
    {
     "name": "stdout",
     "output_type": "stream",
     "text": [
      "Ashik\n"
     ]
    }
   ],
   "source": [
    "print(student[\"Name\"])"
   ]
  },
  {
   "cell_type": "code",
   "execution_count": 27,
   "id": "1e4cae4c-edc4-4443-a03e-2c949a2a2a5c",
   "metadata": {},
   "outputs": [],
   "source": [
    "student[\"Age\"]=38"
   ]
  },
  {
   "cell_type": "code",
   "execution_count": 28,
   "id": "e475c0b0-b296-4a79-b14b-42006a890a5e",
   "metadata": {},
   "outputs": [
    {
     "name": "stdout",
     "output_type": "stream",
     "text": [
      "{'Name': 'Ashik', 'Age': 38, 'GPA': 3.5}\n"
     ]
    }
   ],
   "source": [
    "print(student)"
   ]
  },
  {
   "cell_type": "code",
   "execution_count": 29,
   "id": "a0c5f38b-e014-41fe-8110-8b8a4d57095a",
   "metadata": {},
   "outputs": [],
   "source": [
    "del student[\"Age\"]"
   ]
  },
  {
   "cell_type": "code",
   "execution_count": 30,
   "id": "40f5fe0d-eaa4-4036-863b-3fa9ea1fd379",
   "metadata": {},
   "outputs": [
    {
     "name": "stdout",
     "output_type": "stream",
     "text": [
      "{'Name': 'Ashik', 'GPA': 3.5}\n"
     ]
    }
   ],
   "source": [
    "print(student)"
   ]
  },
  {
   "cell_type": "markdown",
   "id": "27909240-3cb7-4386-b4d5-c06ec7dd88cc",
   "metadata": {},
   "source": [
    "# SET"
   ]
  },
  {
   "cell_type": "code",
   "execution_count": 31,
   "id": "110539fa-00ec-4a4c-9eb1-76c169103c94",
   "metadata": {},
   "outputs": [],
   "source": [
    "data={1,2,3,5}"
   ]
  },
  {
   "cell_type": "code",
   "execution_count": 32,
   "id": "ae1ef9a8-bd3b-4870-b3c4-99786200b597",
   "metadata": {},
   "outputs": [
    {
     "name": "stdout",
     "output_type": "stream",
     "text": [
      "{1, 2, 3, 5}\n"
     ]
    }
   ],
   "source": [
    "print(data)"
   ]
  },
  {
   "cell_type": "code",
   "execution_count": 33,
   "id": "1c97d778-8a65-419e-82db-897257cbe1f1",
   "metadata": {},
   "outputs": [],
   "source": [
    "t1=(\"USA\", \"Bangladesh\")"
   ]
  },
  {
   "cell_type": "code",
   "execution_count": 34,
   "id": "4a42be29-76be-4fc2-8a42-84b2c4329492",
   "metadata": {},
   "outputs": [
    {
     "data": {
      "text/plain": [
       "True"
      ]
     },
     "execution_count": 34,
     "metadata": {},
     "output_type": "execute_result"
    }
   ],
   "source": [
    "\"Bangladesh\" in t1"
   ]
  },
  {
   "cell_type": "code",
   "execution_count": 98,
   "id": "49b4ca3f-f6d4-413f-9213-6577fb21e4c0",
   "metadata": {},
   "outputs": [],
   "source": [
    "with open(\"ome.text\",'w') as f:\n",
    "    f.write(\"hello\\n how are you?\")\n",
    "    print(f\"save this to the file\", file=f)"
   ]
  },
  {
   "cell_type": "code",
   "execution_count": 102,
   "id": "bdda2eec",
   "metadata": {},
   "outputs": [
    {
     "name": "stdout",
     "output_type": "stream",
     "text": [
      "hello\n",
      " how are you?save this to the file\n",
      "\n"
     ]
    }
   ],
   "source": [
    "with open(\"ome.text\",\"r\")as f:\n",
    "    print(f.read())\n"
   ]
  },
  {
   "cell_type": "markdown",
   "id": "ee9bc513",
   "metadata": {},
   "source": [
    "# Adding in list"
   ]
  },
  {
   "cell_type": "code",
   "execution_count": 39,
   "id": "228c70a7",
   "metadata": {},
   "outputs": [],
   "source": [
    "list_1=[2,3,1,5,6,True]"
   ]
  },
  {
   "cell_type": "code",
   "execution_count": 40,
   "id": "46f89db9",
   "metadata": {},
   "outputs": [],
   "source": [
    "list_1.sort()"
   ]
  },
  {
   "cell_type": "code",
   "execution_count": 41,
   "id": "ca1e55ff",
   "metadata": {},
   "outputs": [
    {
     "name": "stdout",
     "output_type": "stream",
     "text": [
      "[1, True, 2, 3, 5, 6]\n"
     ]
    }
   ],
   "source": [
    "print(list_1)"
   ]
  },
  {
   "cell_type": "code",
   "execution_count": 42,
   "id": "64b716e3",
   "metadata": {},
   "outputs": [],
   "source": [
    "list_1.reverse()"
   ]
  },
  {
   "cell_type": "code",
   "execution_count": 43,
   "id": "b041a75f",
   "metadata": {},
   "outputs": [
    {
     "name": "stdout",
     "output_type": "stream",
     "text": [
      "[6, 5, 3, 2, True, 1]\n"
     ]
    }
   ],
   "source": [
    "print(list_1)"
   ]
  },
  {
   "cell_type": "code",
   "execution_count": 44,
   "id": "e39e3fc3",
   "metadata": {},
   "outputs": [],
   "source": [
    "list_1.append(8)"
   ]
  },
  {
   "cell_type": "code",
   "execution_count": 45,
   "id": "d5b4a087",
   "metadata": {},
   "outputs": [
    {
     "name": "stdout",
     "output_type": "stream",
     "text": [
      "[6, 5, 3, 2, True, 1, 8]\n"
     ]
    }
   ],
   "source": [
    "print(list_1)"
   ]
  },
  {
   "cell_type": "code",
   "execution_count": 46,
   "id": "f5a1a572",
   "metadata": {},
   "outputs": [],
   "source": [
    "list_1.sort()\n",
    "list_1.append(4)"
   ]
  },
  {
   "cell_type": "code",
   "execution_count": 47,
   "id": "d1f57901",
   "metadata": {},
   "outputs": [
    {
     "name": "stdout",
     "output_type": "stream",
     "text": [
      "[True, 1, 2, 3, 5, 6, 8, 4]\n"
     ]
    }
   ],
   "source": [
    "print(list_1)"
   ]
  },
  {
   "cell_type": "code",
   "execution_count": 48,
   "id": "f022edec",
   "metadata": {},
   "outputs": [],
   "source": [
    "list_1.insert(0,\"Ome\")"
   ]
  },
  {
   "cell_type": "code",
   "execution_count": 49,
   "id": "5f36b1ac",
   "metadata": {},
   "outputs": [
    {
     "data": {
      "text/plain": [
       "['Ome', True, 1, 2, 3, 5, 6, 8, 4]"
      ]
     },
     "execution_count": 49,
     "metadata": {},
     "output_type": "execute_result"
    }
   ],
   "source": [
    "list_1"
   ]
  },
  {
   "cell_type": "code",
   "execution_count": 50,
   "id": "7127ce55",
   "metadata": {},
   "outputs": [
    {
     "data": {
      "text/plain": [
       "1"
      ]
     },
     "execution_count": 50,
     "metadata": {},
     "output_type": "execute_result"
    }
   ],
   "source": [
    "list_1.count(\"Ome\")"
   ]
  },
  {
   "cell_type": "code",
   "execution_count": 51,
   "id": "d345c193",
   "metadata": {},
   "outputs": [
    {
     "data": {
      "text/plain": [
       "True"
      ]
     },
     "execution_count": 51,
     "metadata": {},
     "output_type": "execute_result"
    }
   ],
   "source": [
    "list_1.pop(1)"
   ]
  },
  {
   "cell_type": "code",
   "execution_count": 52,
   "id": "1e757142",
   "metadata": {},
   "outputs": [
    {
     "name": "stdout",
     "output_type": "stream",
     "text": [
      "['Ome']\n"
     ]
    }
   ],
   "source": [
    "string=[item for item in list_1 if isinstance(item, str)]\n",
    "print(string)"
   ]
  },
  {
   "cell_type": "code",
   "execution_count": 53,
   "id": "17f653d8",
   "metadata": {},
   "outputs": [
    {
     "name": "stdout",
     "output_type": "stream",
     "text": [
      "[1, 2, 3, 5, 6, 8, 4]\n"
     ]
    }
   ],
   "source": [
    "integer=[item for item in list_1 if isinstance(item,int)]\n",
    "print(integer)"
   ]
  },
  {
   "cell_type": "code",
   "execution_count": 54,
   "id": "2a2956a2",
   "metadata": {},
   "outputs": [
    {
     "name": "stdout",
     "output_type": "stream",
     "text": [
      "[]\n"
     ]
    }
   ],
   "source": [
    "boolen=[item for item in list_1 if isinstance(item, bool)]\n",
    "print(boolen)"
   ]
  },
  {
   "cell_type": "code",
   "execution_count": null,
   "id": "977c7750",
   "metadata": {},
   "outputs": [],
   "source": []
  },
  {
   "cell_type": "code",
   "execution_count": 55,
   "id": "4cd8695c",
   "metadata": {},
   "outputs": [
    {
     "name": "stdout",
     "output_type": "stream",
     "text": [
      "1\n",
      "3\n",
      "5\n",
      "7\n",
      "9\n"
     ]
    }
   ],
   "source": [
    "for i in range(1,10,2):\n",
    "    print(i)"
   ]
  },
  {
   "cell_type": "code",
   "execution_count": 56,
   "id": "ffc1d98b",
   "metadata": {},
   "outputs": [
    {
     "name": "stdout",
     "output_type": "stream",
     "text": [
      "1...3...5...7...9..."
     ]
    }
   ],
   "source": [
    "for i in range(1,10,2):\n",
    "    print(i,end=\"...\")"
   ]
  },
  {
   "cell_type": "code",
   "execution_count": 57,
   "id": "87213092",
   "metadata": {},
   "outputs": [
    {
     "name": "stdout",
     "output_type": "stream",
     "text": [
      "1I\n",
      "am\n",
      "Ome3I\n",
      "am\n",
      "Ome5I\n",
      "am\n",
      "Ome7I\n",
      "am\n",
      "Ome9I\n",
      "am\n",
      "Ome"
     ]
    }
   ],
   "source": [
    "for i in range(1,10,2):\n",
    "    print(i,end=\"I\\nam\\nOme\")"
   ]
  },
  {
   "cell_type": "code",
   "execution_count": 58,
   "id": "3700215a",
   "metadata": {},
   "outputs": [
    {
     "name": "stdout",
     "output_type": "stream",
     "text": [
      "['__add__', '__class__', '__class_getitem__', '__contains__', '__delattr__', '__delitem__', '__dir__', '__doc__', '__eq__', '__format__', '__ge__', '__getattribute__', '__getitem__', '__gt__', '__hash__', '__iadd__', '__imul__', '__init__', '__init_subclass__', '__iter__', '__le__', '__len__', '__lt__', '__mul__', '__ne__', '__new__', '__reduce__', '__reduce_ex__', '__repr__', '__reversed__', '__rmul__', '__setattr__', '__setitem__', '__sizeof__', '__str__', '__subclasshook__', 'append', 'clear', 'copy', 'count', 'extend', 'index', 'insert', 'pop', 'remove', 'reverse', 'sort']\n"
     ]
    }
   ],
   "source": [
    "print(dir(list))"
   ]
  },
  {
   "cell_type": "code",
   "execution_count": 59,
   "id": "4036a240",
   "metadata": {},
   "outputs": [
    {
     "name": "stdout",
     "output_type": "stream",
     "text": [
      "['append', 'clear', 'copy', 'count', 'extend', 'index', 'insert', 'pop', 'remove', 'reverse', 'sort']\n"
     ]
    }
   ],
   "source": [
    "methods=[method for method in dir(list) if callable(getattr(list, method)) and not method.startswith('_')]\n",
    "print(methods)"
   ]
  },
  {
   "cell_type": "markdown",
   "id": "34ac525b",
   "metadata": {},
   "source": [
    "# String"
   ]
  },
  {
   "cell_type": "code",
   "execution_count": 60,
   "id": "93bda4b9",
   "metadata": {},
   "outputs": [],
   "source": [
    "A=\"Hello\""
   ]
  },
  {
   "cell_type": "code",
   "execution_count": 61,
   "id": "151d5142",
   "metadata": {},
   "outputs": [
    {
     "name": "stdout",
     "output_type": "stream",
     "text": [
      "H\n"
     ]
    }
   ],
   "source": [
    "print(A[0])"
   ]
  },
  {
   "cell_type": "code",
   "execution_count": 62,
   "id": "73347ae8",
   "metadata": {},
   "outputs": [
    {
     "ename": "AttributeError",
     "evalue": "'str' object has no attribute 'remove'",
     "output_type": "error",
     "traceback": [
      "\u001b[1;31m---------------------------------------------------------------------------\u001b[0m",
      "\u001b[1;31mAttributeError\u001b[0m                            Traceback (most recent call last)",
      "\u001b[1;32m~\\AppData\\Local\\Temp\\ipykernel_18092\\3694651645.py\u001b[0m in \u001b[0;36m<module>\u001b[1;34m\u001b[0m\n\u001b[1;32m----> 1\u001b[1;33m \u001b[0mA\u001b[0m\u001b[1;33m.\u001b[0m\u001b[0mremove\u001b[0m\u001b[1;33m(\u001b[0m\u001b[1;34m\"H\"\u001b[0m\u001b[1;33m)\u001b[0m\u001b[1;33m\u001b[0m\u001b[1;33m\u001b[0m\u001b[0m\n\u001b[0m",
      "\u001b[1;31mAttributeError\u001b[0m: 'str' object has no attribute 'remove'"
     ]
    }
   ],
   "source": [
    "A.remove(\"H\")"
   ]
  },
  {
   "cell_type": "markdown",
   "id": "d6e23571",
   "metadata": {},
   "source": [
    "# String"
   ]
  },
  {
   "cell_type": "code",
   "execution_count": 63,
   "id": "8d4e5a05",
   "metadata": {},
   "outputs": [
    {
     "name": "stdout",
     "output_type": "stream",
     "text": [
      "['__add__', '__class__', '__contains__', '__delattr__', '__dir__', '__doc__', '__eq__', '__format__', '__ge__', '__getattribute__', '__getitem__', '__getnewargs__', '__gt__', '__hash__', '__init__', '__init_subclass__', '__iter__', '__le__', '__len__', '__lt__', '__mod__', '__mul__', '__ne__', '__new__', '__reduce__', '__reduce_ex__', '__repr__', '__rmod__', '__rmul__', '__setattr__', '__sizeof__', '__str__', '__subclasshook__', 'capitalize', 'casefold', 'center', 'count', 'encode', 'endswith', 'expandtabs', 'find', 'format', 'format_map', 'index', 'isalnum', 'isalpha', 'isascii', 'isdecimal', 'isdigit', 'isidentifier', 'islower', 'isnumeric', 'isprintable', 'isspace', 'istitle', 'isupper', 'join', 'ljust', 'lower', 'lstrip', 'maketrans', 'partition', 'removeprefix', 'removesuffix', 'replace', 'rfind', 'rindex', 'rjust', 'rpartition', 'rsplit', 'rstrip', 'split', 'splitlines', 'startswith', 'strip', 'swapcase', 'title', 'translate', 'upper', 'zfill']\n"
     ]
    }
   ],
   "source": [
    "print(dir(str))"
   ]
  },
  {
   "cell_type": "code",
   "execution_count": 64,
   "id": "7494cd4c",
   "metadata": {},
   "outputs": [],
   "source": [
    "s1= \" hello\""
   ]
  },
  {
   "cell_type": "code",
   "execution_count": 65,
   "id": "9fb22065",
   "metadata": {},
   "outputs": [
    {
     "data": {
      "text/plain": [
       "' hi'"
      ]
     },
     "execution_count": 65,
     "metadata": {},
     "output_type": "execute_result"
    }
   ],
   "source": [
    "s1.replace(\"hello\", \"hi\")"
   ]
  },
  {
   "cell_type": "markdown",
   "id": "25a89ed9",
   "metadata": {},
   "source": [
    "s1"
   ]
  },
  {
   "cell_type": "code",
   "execution_count": 66,
   "id": "c55bd54e",
   "metadata": {},
   "outputs": [
    {
     "data": {
      "text/plain": [
       "' hello'"
      ]
     },
     "execution_count": 66,
     "metadata": {},
     "output_type": "execute_result"
    }
   ],
   "source": [
    "s1"
   ]
  },
  {
   "cell_type": "code",
   "execution_count": 67,
   "id": "4b434f54",
   "metadata": {},
   "outputs": [
    {
     "data": {
      "text/plain": [
       "' hi'"
      ]
     },
     "execution_count": 67,
     "metadata": {},
     "output_type": "execute_result"
    }
   ],
   "source": [
    "s1.replace(\"hello\", \"hi\")"
   ]
  },
  {
   "cell_type": "code",
   "execution_count": 68,
   "id": "f41a1495",
   "metadata": {},
   "outputs": [
    {
     "name": "stdout",
     "output_type": "stream",
     "text": [
      " hello\n"
     ]
    }
   ],
   "source": [
    "print(s1)"
   ]
  },
  {
   "cell_type": "code",
   "execution_count": 69,
   "id": "1d24261b",
   "metadata": {},
   "outputs": [
    {
     "data": {
      "text/plain": [
       "2"
      ]
     },
     "execution_count": 69,
     "metadata": {},
     "output_type": "execute_result"
    }
   ],
   "source": [
    "s1.count(\"l\")"
   ]
  },
  {
   "cell_type": "code",
   "execution_count": 70,
   "id": "4a42fc58",
   "metadata": {},
   "outputs": [
    {
     "data": {
      "text/plain": [
       "False"
      ]
     },
     "execution_count": 70,
     "metadata": {},
     "output_type": "execute_result"
    }
   ],
   "source": [
    "s1.isidentifier()"
   ]
  },
  {
   "cell_type": "code",
   "execution_count": 71,
   "id": "c8376d4f",
   "metadata": {},
   "outputs": [],
   "source": [
    "name, score ='Mandal', 100\n",
    "with open(\"output1.txt\", \"w\") as f:\n",
    "    print(f\"{name} scored {score} marks :: PIIT Boot Camp - Saving this to a file.\", file=f)"
   ]
  },
  {
   "cell_type": "code",
   "execution_count": 72,
   "id": "a8db4d08",
   "metadata": {},
   "outputs": [],
   "source": [
    "import os\n"
   ]
  },
  {
   "cell_type": "code",
   "execution_count": 73,
   "id": "8b9fce05",
   "metadata": {},
   "outputs": [
    {
     "name": "stdout",
     "output_type": "stream",
     "text": [
      "['.git', '.ipynb_checkpoints', 'Aaira.text', 'mtcarsdata.xlsx', 'ome.text', 'output1.txt', 'py', 'Python class-PIIT.ipynb', 'Python class.1']\t"
     ]
    }
   ],
   "source": [
    "print(os.listdir(), end ='\\t')\n"
   ]
  },
  {
   "cell_type": "code",
   "execution_count": 74,
   "id": "2deff2f2",
   "metadata": {},
   "outputs": [
    {
     "name": "stdout",
     "output_type": "stream",
     "text": [
      "Mandal scored 100 marks :: PIIT Boot Camp - Saving this to a file.\n",
      "\n"
     ]
    }
   ],
   "source": [
    "with open(\"output1.txt\", \"r\") as f:\n",
    "    content = f.read()\n",
    "    print(content)"
   ]
  },
  {
   "cell_type": "code",
   "execution_count": 97,
   "id": "2bb5e0da",
   "metadata": {},
   "outputs": [],
   "source": [
    "with open(\"Aaira.text\",\"w\") as f:\n",
    "    print(f\"Aaira is my beloved daughter and save the statement in the file\", file=f)"
   ]
  },
  {
   "cell_type": "code",
   "execution_count": 76,
   "id": "240caf4f",
   "metadata": {},
   "outputs": [
    {
     "name": "stdout",
     "output_type": "stream",
     "text": [
      "Aaira is my beloved daughter and save the statement in the file\n",
      "\n"
     ]
    }
   ],
   "source": [
    "with open(\"Aaira.text\",\"r\") as f:\n",
    "    print(f.read())"
   ]
  },
  {
   "cell_type": "code",
   "execution_count": 77,
   "id": "23fcfe87",
   "metadata": {},
   "outputs": [],
   "source": [
    "import os"
   ]
  },
  {
   "cell_type": "code",
   "execution_count": 78,
   "id": "671f534b",
   "metadata": {},
   "outputs": [
    {
     "name": "stdout",
     "output_type": "stream",
     "text": [
      "['.git', '.ipynb_checkpoints', 'Aaira.text', 'mtcarsdata.xlsx', 'ome.text', 'output1.txt', 'py', 'Python class-PIIT.ipynb', 'Python class.1']\n"
     ]
    }
   ],
   "source": [
    "print(os.listdir())"
   ]
  },
  {
   "cell_type": "markdown",
   "id": "2b97e3eb",
   "metadata": {},
   "source": [
    "# Installing library and pull data set"
   ]
  },
  {
   "cell_type": "code",
   "execution_count": 79,
   "id": "901f54b6",
   "metadata": {},
   "outputs": [
    {
     "name": "stdout",
     "output_type": "stream",
     "text": [
      "Requirement already satisfied: pydataset in c:\\users\\rahma\\anaconda3\\lib\\site-packages (0.2.0)\n",
      "Requirement already satisfied: pandas in c:\\users\\rahma\\anaconda3\\lib\\site-packages (from pydataset) (1.4.4)\n",
      "Requirement already satisfied: pytz>=2020.1 in c:\\users\\rahma\\anaconda3\\lib\\site-packages (from pandas->pydataset) (2022.1)\n",
      "Requirement already satisfied: python-dateutil>=2.8.1 in c:\\users\\rahma\\anaconda3\\lib\\site-packages (from pandas->pydataset) (2.8.2)\n",
      "Requirement already satisfied: numpy>=1.18.5 in c:\\users\\rahma\\anaconda3\\lib\\site-packages (from pandas->pydataset) (1.21.5)\n",
      "Requirement already satisfied: six>=1.5 in c:\\users\\rahma\\anaconda3\\lib\\site-packages (from python-dateutil>=2.8.1->pandas->pydataset) (1.16.0)\n",
      "Note: you may need to restart the kernel to use updated packages.\n"
     ]
    }
   ],
   "source": [
    "pip install pydataset"
   ]
  },
  {
   "cell_type": "code",
   "execution_count": 80,
   "id": "c2ef6f99",
   "metadata": {},
   "outputs": [],
   "source": [
    "from pydataset import data"
   ]
  },
  {
   "cell_type": "code",
   "execution_count": 81,
   "id": "17a0166a",
   "metadata": {},
   "outputs": [
    {
     "name": "stdout",
     "output_type": "stream",
     "text": [
      "        dataset_id                                             title\n",
      "0    AirPassengers       Monthly Airline Passenger Numbers 1949-1960\n",
      "1          BJsales                 Sales Data with Leading Indicator\n",
      "2              BOD                         Biochemical Oxygen Demand\n",
      "3     Formaldehyde                     Determination of Formaldehyde\n",
      "4     HairEyeColor         Hair and Eye Color of Statistics Students\n",
      "..             ...                                               ...\n",
      "752        VerbAgg                  Verbal Aggression item responses\n",
      "753           cake                 Breakage Angle of Chocolate Cakes\n",
      "754           cbpp                 Contagious bovine pleuropneumonia\n",
      "755    grouseticks  Data on red grouse ticks from Elston et al. 2001\n",
      "756     sleepstudy       Reaction times in a sleep deprivation study\n",
      "\n",
      "[757 rows x 2 columns]\n"
     ]
    }
   ],
   "source": [
    "print(data())"
   ]
  },
  {
   "cell_type": "code",
   "execution_count": 82,
   "id": "89cb7fb8",
   "metadata": {},
   "outputs": [],
   "source": [
    "A=data(\"AirPassengers\")"
   ]
  },
  {
   "cell_type": "code",
   "execution_count": 83,
   "id": "d114f2ee",
   "metadata": {},
   "outputs": [
    {
     "name": "stdout",
     "output_type": "stream",
     "text": [
      "            time  AirPassengers\n",
      "1    1949.000000            112\n",
      "2    1949.083333            118\n",
      "3    1949.166667            132\n",
      "4    1949.250000            129\n",
      "5    1949.333333            121\n",
      "6    1949.416667            135\n",
      "7    1949.500000            148\n",
      "8    1949.583333            148\n",
      "9    1949.666667            136\n",
      "10   1949.750000            119\n",
      "11   1949.833333            104\n",
      "12   1949.916667            118\n",
      "13   1950.000000            115\n",
      "14   1950.083333            126\n",
      "15   1950.166667            141\n",
      "16   1950.250000            135\n",
      "17   1950.333333            125\n",
      "18   1950.416667            149\n",
      "19   1950.500000            170\n",
      "20   1950.583333            170\n",
      "21   1950.666667            158\n",
      "22   1950.750000            133\n",
      "23   1950.833333            114\n",
      "24   1950.916667            140\n",
      "25   1951.000000            145\n",
      "26   1951.083333            150\n",
      "27   1951.166667            178\n",
      "28   1951.250000            163\n",
      "29   1951.333333            172\n",
      "30   1951.416667            178\n",
      "31   1951.500000            199\n",
      "32   1951.583333            199\n",
      "33   1951.666667            184\n",
      "34   1951.750000            162\n",
      "35   1951.833333            146\n",
      "36   1951.916667            166\n",
      "37   1952.000000            171\n",
      "38   1952.083333            180\n",
      "39   1952.166667            193\n",
      "40   1952.250000            181\n",
      "41   1952.333333            183\n",
      "42   1952.416667            218\n",
      "43   1952.500000            230\n",
      "44   1952.583333            242\n",
      "45   1952.666667            209\n",
      "46   1952.750000            191\n",
      "47   1952.833333            172\n",
      "48   1952.916667            194\n",
      "49   1953.000000            196\n",
      "50   1953.083333            196\n",
      "51   1953.166667            236\n",
      "52   1953.250000            235\n",
      "53   1953.333333            229\n",
      "54   1953.416667            243\n",
      "55   1953.500000            264\n",
      "56   1953.583333            272\n",
      "57   1953.666667            237\n",
      "58   1953.750000            211\n",
      "59   1953.833333            180\n",
      "60   1953.916667            201\n",
      "61   1954.000000            204\n",
      "62   1954.083333            188\n",
      "63   1954.166667            235\n",
      "64   1954.250000            227\n",
      "65   1954.333333            234\n",
      "66   1954.416667            264\n",
      "67   1954.500000            302\n",
      "68   1954.583333            293\n",
      "69   1954.666667            259\n",
      "70   1954.750000            229\n",
      "71   1954.833333            203\n",
      "72   1954.916667            229\n",
      "73   1955.000000            242\n",
      "74   1955.083333            233\n",
      "75   1955.166667            267\n",
      "76   1955.250000            269\n",
      "77   1955.333333            270\n",
      "78   1955.416667            315\n",
      "79   1955.500000            364\n",
      "80   1955.583333            347\n",
      "81   1955.666667            312\n",
      "82   1955.750000            274\n",
      "83   1955.833333            237\n",
      "84   1955.916667            278\n",
      "85   1956.000000            284\n",
      "86   1956.083333            277\n",
      "87   1956.166667            317\n",
      "88   1956.250000            313\n",
      "89   1956.333333            318\n",
      "90   1956.416667            374\n",
      "91   1956.500000            413\n",
      "92   1956.583333            405\n",
      "93   1956.666667            355\n",
      "94   1956.750000            306\n",
      "95   1956.833333            271\n",
      "96   1956.916667            306\n",
      "97   1957.000000            315\n",
      "98   1957.083333            301\n",
      "99   1957.166667            356\n",
      "100  1957.250000            348\n",
      "101  1957.333333            355\n",
      "102  1957.416667            422\n",
      "103  1957.500000            465\n",
      "104  1957.583333            467\n",
      "105  1957.666667            404\n",
      "106  1957.750000            347\n",
      "107  1957.833333            305\n",
      "108  1957.916667            336\n",
      "109  1958.000000            340\n",
      "110  1958.083333            318\n",
      "111  1958.166667            362\n",
      "112  1958.250000            348\n",
      "113  1958.333333            363\n",
      "114  1958.416667            435\n",
      "115  1958.500000            491\n",
      "116  1958.583333            505\n",
      "117  1958.666667            404\n",
      "118  1958.750000            359\n",
      "119  1958.833333            310\n",
      "120  1958.916667            337\n",
      "121  1959.000000            360\n",
      "122  1959.083333            342\n",
      "123  1959.166667            406\n",
      "124  1959.250000            396\n",
      "125  1959.333333            420\n",
      "126  1959.416667            472\n",
      "127  1959.500000            548\n",
      "128  1959.583333            559\n",
      "129  1959.666667            463\n",
      "130  1959.750000            407\n",
      "131  1959.833333            362\n",
      "132  1959.916667            405\n",
      "133  1960.000000            417\n",
      "134  1960.083333            391\n",
      "135  1960.166667            419\n",
      "136  1960.250000            461\n",
      "137  1960.333333            472\n",
      "138  1960.416667            535\n",
      "139  1960.500000            622\n",
      "140  1960.583333            606\n",
      "141  1960.666667            508\n",
      "142  1960.750000            461\n",
      "143  1960.833333            390\n",
      "144  1960.916667            432\n"
     ]
    }
   ],
   "source": [
    "print(A)"
   ]
  },
  {
   "cell_type": "code",
   "execution_count": 84,
   "id": "785f6893",
   "metadata": {},
   "outputs": [
    {
     "name": "stdout",
     "output_type": "stream",
     "text": [
      "<bound method NDFrame.head of             time  AirPassengers\n",
      "1    1949.000000            112\n",
      "2    1949.083333            118\n",
      "3    1949.166667            132\n",
      "4    1949.250000            129\n",
      "5    1949.333333            121\n",
      "6    1949.416667            135\n",
      "7    1949.500000            148\n",
      "8    1949.583333            148\n",
      "9    1949.666667            136\n",
      "10   1949.750000            119\n",
      "11   1949.833333            104\n",
      "12   1949.916667            118\n",
      "13   1950.000000            115\n",
      "14   1950.083333            126\n",
      "15   1950.166667            141\n",
      "16   1950.250000            135\n",
      "17   1950.333333            125\n",
      "18   1950.416667            149\n",
      "19   1950.500000            170\n",
      "20   1950.583333            170\n",
      "21   1950.666667            158\n",
      "22   1950.750000            133\n",
      "23   1950.833333            114\n",
      "24   1950.916667            140\n",
      "25   1951.000000            145\n",
      "26   1951.083333            150\n",
      "27   1951.166667            178\n",
      "28   1951.250000            163\n",
      "29   1951.333333            172\n",
      "30   1951.416667            178\n",
      "31   1951.500000            199\n",
      "32   1951.583333            199\n",
      "33   1951.666667            184\n",
      "34   1951.750000            162\n",
      "35   1951.833333            146\n",
      "36   1951.916667            166\n",
      "37   1952.000000            171\n",
      "38   1952.083333            180\n",
      "39   1952.166667            193\n",
      "40   1952.250000            181\n",
      "41   1952.333333            183\n",
      "42   1952.416667            218\n",
      "43   1952.500000            230\n",
      "44   1952.583333            242\n",
      "45   1952.666667            209\n",
      "46   1952.750000            191\n",
      "47   1952.833333            172\n",
      "48   1952.916667            194\n",
      "49   1953.000000            196\n",
      "50   1953.083333            196\n",
      "51   1953.166667            236\n",
      "52   1953.250000            235\n",
      "53   1953.333333            229\n",
      "54   1953.416667            243\n",
      "55   1953.500000            264\n",
      "56   1953.583333            272\n",
      "57   1953.666667            237\n",
      "58   1953.750000            211\n",
      "59   1953.833333            180\n",
      "60   1953.916667            201\n",
      "61   1954.000000            204\n",
      "62   1954.083333            188\n",
      "63   1954.166667            235\n",
      "64   1954.250000            227\n",
      "65   1954.333333            234\n",
      "66   1954.416667            264\n",
      "67   1954.500000            302\n",
      "68   1954.583333            293\n",
      "69   1954.666667            259\n",
      "70   1954.750000            229\n",
      "71   1954.833333            203\n",
      "72   1954.916667            229\n",
      "73   1955.000000            242\n",
      "74   1955.083333            233\n",
      "75   1955.166667            267\n",
      "76   1955.250000            269\n",
      "77   1955.333333            270\n",
      "78   1955.416667            315\n",
      "79   1955.500000            364\n",
      "80   1955.583333            347\n",
      "81   1955.666667            312\n",
      "82   1955.750000            274\n",
      "83   1955.833333            237\n",
      "84   1955.916667            278\n",
      "85   1956.000000            284\n",
      "86   1956.083333            277\n",
      "87   1956.166667            317\n",
      "88   1956.250000            313\n",
      "89   1956.333333            318\n",
      "90   1956.416667            374\n",
      "91   1956.500000            413\n",
      "92   1956.583333            405\n",
      "93   1956.666667            355\n",
      "94   1956.750000            306\n",
      "95   1956.833333            271\n",
      "96   1956.916667            306\n",
      "97   1957.000000            315\n",
      "98   1957.083333            301\n",
      "99   1957.166667            356\n",
      "100  1957.250000            348\n",
      "101  1957.333333            355\n",
      "102  1957.416667            422\n",
      "103  1957.500000            465\n",
      "104  1957.583333            467\n",
      "105  1957.666667            404\n",
      "106  1957.750000            347\n",
      "107  1957.833333            305\n",
      "108  1957.916667            336\n",
      "109  1958.000000            340\n",
      "110  1958.083333            318\n",
      "111  1958.166667            362\n",
      "112  1958.250000            348\n",
      "113  1958.333333            363\n",
      "114  1958.416667            435\n",
      "115  1958.500000            491\n",
      "116  1958.583333            505\n",
      "117  1958.666667            404\n",
      "118  1958.750000            359\n",
      "119  1958.833333            310\n",
      "120  1958.916667            337\n",
      "121  1959.000000            360\n",
      "122  1959.083333            342\n",
      "123  1959.166667            406\n",
      "124  1959.250000            396\n",
      "125  1959.333333            420\n",
      "126  1959.416667            472\n",
      "127  1959.500000            548\n",
      "128  1959.583333            559\n",
      "129  1959.666667            463\n",
      "130  1959.750000            407\n",
      "131  1959.833333            362\n",
      "132  1959.916667            405\n",
      "133  1960.000000            417\n",
      "134  1960.083333            391\n",
      "135  1960.166667            419\n",
      "136  1960.250000            461\n",
      "137  1960.333333            472\n",
      "138  1960.416667            535\n",
      "139  1960.500000            622\n",
      "140  1960.583333            606\n",
      "141  1960.666667            508\n",
      "142  1960.750000            461\n",
      "143  1960.833333            390\n",
      "144  1960.916667            432>\n"
     ]
    }
   ],
   "source": [
    "print(A.head)"
   ]
  },
  {
   "cell_type": "code",
   "execution_count": 85,
   "id": "e6efb25c",
   "metadata": {},
   "outputs": [
    {
     "data": {
      "text/html": [
       "<div>\n",
       "<style scoped>\n",
       "    .dataframe tbody tr th:only-of-type {\n",
       "        vertical-align: middle;\n",
       "    }\n",
       "\n",
       "    .dataframe tbody tr th {\n",
       "        vertical-align: top;\n",
       "    }\n",
       "\n",
       "    .dataframe thead th {\n",
       "        text-align: right;\n",
       "    }\n",
       "</style>\n",
       "<table border=\"1\" class=\"dataframe\">\n",
       "  <thead>\n",
       "    <tr style=\"text-align: right;\">\n",
       "      <th></th>\n",
       "      <th>mpg</th>\n",
       "      <th>cyl</th>\n",
       "      <th>disp</th>\n",
       "      <th>hp</th>\n",
       "      <th>drat</th>\n",
       "      <th>wt</th>\n",
       "      <th>qsec</th>\n",
       "      <th>vs</th>\n",
       "      <th>am</th>\n",
       "      <th>gear</th>\n",
       "      <th>carb</th>\n",
       "    </tr>\n",
       "  </thead>\n",
       "  <tbody>\n",
       "    <tr>\n",
       "      <th>Mazda RX4</th>\n",
       "      <td>21.0</td>\n",
       "      <td>6</td>\n",
       "      <td>160.0</td>\n",
       "      <td>110</td>\n",
       "      <td>3.90</td>\n",
       "      <td>2.620</td>\n",
       "      <td>16.46</td>\n",
       "      <td>0</td>\n",
       "      <td>1</td>\n",
       "      <td>4</td>\n",
       "      <td>4</td>\n",
       "    </tr>\n",
       "    <tr>\n",
       "      <th>Mazda RX4 Wag</th>\n",
       "      <td>21.0</td>\n",
       "      <td>6</td>\n",
       "      <td>160.0</td>\n",
       "      <td>110</td>\n",
       "      <td>3.90</td>\n",
       "      <td>2.875</td>\n",
       "      <td>17.02</td>\n",
       "      <td>0</td>\n",
       "      <td>1</td>\n",
       "      <td>4</td>\n",
       "      <td>4</td>\n",
       "    </tr>\n",
       "    <tr>\n",
       "      <th>Datsun 710</th>\n",
       "      <td>22.8</td>\n",
       "      <td>4</td>\n",
       "      <td>108.0</td>\n",
       "      <td>93</td>\n",
       "      <td>3.85</td>\n",
       "      <td>2.320</td>\n",
       "      <td>18.61</td>\n",
       "      <td>1</td>\n",
       "      <td>1</td>\n",
       "      <td>4</td>\n",
       "      <td>1</td>\n",
       "    </tr>\n",
       "    <tr>\n",
       "      <th>Hornet 4 Drive</th>\n",
       "      <td>21.4</td>\n",
       "      <td>6</td>\n",
       "      <td>258.0</td>\n",
       "      <td>110</td>\n",
       "      <td>3.08</td>\n",
       "      <td>3.215</td>\n",
       "      <td>19.44</td>\n",
       "      <td>1</td>\n",
       "      <td>0</td>\n",
       "      <td>3</td>\n",
       "      <td>1</td>\n",
       "    </tr>\n",
       "    <tr>\n",
       "      <th>Hornet Sportabout</th>\n",
       "      <td>18.7</td>\n",
       "      <td>8</td>\n",
       "      <td>360.0</td>\n",
       "      <td>175</td>\n",
       "      <td>3.15</td>\n",
       "      <td>3.440</td>\n",
       "      <td>17.02</td>\n",
       "      <td>0</td>\n",
       "      <td>0</td>\n",
       "      <td>3</td>\n",
       "      <td>2</td>\n",
       "    </tr>\n",
       "  </tbody>\n",
       "</table>\n",
       "</div>"
      ],
      "text/plain": [
       "                    mpg  cyl   disp   hp  drat     wt   qsec  vs  am  gear  \\\n",
       "Mazda RX4          21.0    6  160.0  110  3.90  2.620  16.46   0   1     4   \n",
       "Mazda RX4 Wag      21.0    6  160.0  110  3.90  2.875  17.02   0   1     4   \n",
       "Datsun 710         22.8    4  108.0   93  3.85  2.320  18.61   1   1     4   \n",
       "Hornet 4 Drive     21.4    6  258.0  110  3.08  3.215  19.44   1   0     3   \n",
       "Hornet Sportabout  18.7    8  360.0  175  3.15  3.440  17.02   0   0     3   \n",
       "\n",
       "                   carb  \n",
       "Mazda RX4             4  \n",
       "Mazda RX4 Wag         4  \n",
       "Datsun 710            1  \n",
       "Hornet 4 Drive        1  \n",
       "Hornet Sportabout     2  "
      ]
     },
     "execution_count": 85,
     "metadata": {},
     "output_type": "execute_result"
    }
   ],
   "source": [
    "mtcars=data(\"mtcars\")\n",
    "mtcars.head()"
   ]
  },
  {
   "cell_type": "code",
   "execution_count": 86,
   "id": "0bf946f5",
   "metadata": {},
   "outputs": [],
   "source": [
    "mtcars.to_excel(\"mtcarsdata.xlsx\", index=True) # row name is pop up with index= true i.e- mazda Rx4,,,,"
   ]
  },
  {
   "cell_type": "code",
   "execution_count": 87,
   "id": "27194d0f",
   "metadata": {},
   "outputs": [],
   "source": [
    "import pandas as pd"
   ]
  },
  {
   "cell_type": "code",
   "execution_count": 88,
   "id": "d0b337af",
   "metadata": {},
   "outputs": [],
   "source": [
    "mtcars1=pd.read_excel(\"mtcarsdata.xlsx\")"
   ]
  },
  {
   "cell_type": "code",
   "execution_count": 89,
   "id": "774e1742",
   "metadata": {},
   "outputs": [
    {
     "data": {
      "text/html": [
       "<div>\n",
       "<style scoped>\n",
       "    .dataframe tbody tr th:only-of-type {\n",
       "        vertical-align: middle;\n",
       "    }\n",
       "\n",
       "    .dataframe tbody tr th {\n",
       "        vertical-align: top;\n",
       "    }\n",
       "\n",
       "    .dataframe thead th {\n",
       "        text-align: right;\n",
       "    }\n",
       "</style>\n",
       "<table border=\"1\" class=\"dataframe\">\n",
       "  <thead>\n",
       "    <tr style=\"text-align: right;\">\n",
       "      <th></th>\n",
       "      <th>Unnamed: 0</th>\n",
       "      <th>mpg</th>\n",
       "      <th>cyl</th>\n",
       "      <th>disp</th>\n",
       "      <th>hp</th>\n",
       "      <th>drat</th>\n",
       "      <th>wt</th>\n",
       "      <th>qsec</th>\n",
       "      <th>vs</th>\n",
       "      <th>am</th>\n",
       "      <th>gear</th>\n",
       "      <th>carb</th>\n",
       "    </tr>\n",
       "  </thead>\n",
       "  <tbody>\n",
       "    <tr>\n",
       "      <th>0</th>\n",
       "      <td>Mazda RX4</td>\n",
       "      <td>21.0</td>\n",
       "      <td>6</td>\n",
       "      <td>160.0</td>\n",
       "      <td>110</td>\n",
       "      <td>3.90</td>\n",
       "      <td>2.620</td>\n",
       "      <td>16.46</td>\n",
       "      <td>0</td>\n",
       "      <td>1</td>\n",
       "      <td>4</td>\n",
       "      <td>4</td>\n",
       "    </tr>\n",
       "    <tr>\n",
       "      <th>1</th>\n",
       "      <td>Mazda RX4 Wag</td>\n",
       "      <td>21.0</td>\n",
       "      <td>6</td>\n",
       "      <td>160.0</td>\n",
       "      <td>110</td>\n",
       "      <td>3.90</td>\n",
       "      <td>2.875</td>\n",
       "      <td>17.02</td>\n",
       "      <td>0</td>\n",
       "      <td>1</td>\n",
       "      <td>4</td>\n",
       "      <td>4</td>\n",
       "    </tr>\n",
       "    <tr>\n",
       "      <th>2</th>\n",
       "      <td>Datsun 710</td>\n",
       "      <td>22.8</td>\n",
       "      <td>4</td>\n",
       "      <td>108.0</td>\n",
       "      <td>93</td>\n",
       "      <td>3.85</td>\n",
       "      <td>2.320</td>\n",
       "      <td>18.61</td>\n",
       "      <td>1</td>\n",
       "      <td>1</td>\n",
       "      <td>4</td>\n",
       "      <td>1</td>\n",
       "    </tr>\n",
       "    <tr>\n",
       "      <th>3</th>\n",
       "      <td>Hornet 4 Drive</td>\n",
       "      <td>21.4</td>\n",
       "      <td>6</td>\n",
       "      <td>258.0</td>\n",
       "      <td>110</td>\n",
       "      <td>3.08</td>\n",
       "      <td>3.215</td>\n",
       "      <td>19.44</td>\n",
       "      <td>1</td>\n",
       "      <td>0</td>\n",
       "      <td>3</td>\n",
       "      <td>1</td>\n",
       "    </tr>\n",
       "    <tr>\n",
       "      <th>4</th>\n",
       "      <td>Hornet Sportabout</td>\n",
       "      <td>18.7</td>\n",
       "      <td>8</td>\n",
       "      <td>360.0</td>\n",
       "      <td>175</td>\n",
       "      <td>3.15</td>\n",
       "      <td>3.440</td>\n",
       "      <td>17.02</td>\n",
       "      <td>0</td>\n",
       "      <td>0</td>\n",
       "      <td>3</td>\n",
       "      <td>2</td>\n",
       "    </tr>\n",
       "  </tbody>\n",
       "</table>\n",
       "</div>"
      ],
      "text/plain": [
       "          Unnamed: 0   mpg  cyl   disp   hp  drat     wt   qsec  vs  am  gear  \\\n",
       "0          Mazda RX4  21.0    6  160.0  110  3.90  2.620  16.46   0   1     4   \n",
       "1      Mazda RX4 Wag  21.0    6  160.0  110  3.90  2.875  17.02   0   1     4   \n",
       "2         Datsun 710  22.8    4  108.0   93  3.85  2.320  18.61   1   1     4   \n",
       "3     Hornet 4 Drive  21.4    6  258.0  110  3.08  3.215  19.44   1   0     3   \n",
       "4  Hornet Sportabout  18.7    8  360.0  175  3.15  3.440  17.02   0   0     3   \n",
       "\n",
       "   carb  \n",
       "0     4  \n",
       "1     4  \n",
       "2     1  \n",
       "3     1  \n",
       "4     2  "
      ]
     },
     "execution_count": 89,
     "metadata": {},
     "output_type": "execute_result"
    }
   ],
   "source": [
    "mtcars1.head()"
   ]
  },
  {
   "cell_type": "markdown",
   "id": "606de594",
   "metadata": {},
   "source": [
    "# Missing value"
   ]
  },
  {
   "cell_type": "code",
   "execution_count": 90,
   "id": "0140cf5f",
   "metadata": {},
   "outputs": [
    {
     "data": {
      "text/plain": [
       "mpg     0\n",
       "cyl     0\n",
       "disp    0\n",
       "hp      0\n",
       "drat    0\n",
       "wt      0\n",
       "qsec    0\n",
       "vs      0\n",
       "am      0\n",
       "gear    0\n",
       "carb    0\n",
       "dtype: int64"
      ]
     },
     "execution_count": 90,
     "metadata": {},
     "output_type": "execute_result"
    }
   ],
   "source": [
    "mtcars.isnull().sum() # column wise missing value"
   ]
  },
  {
   "cell_type": "code",
   "execution_count": 91,
   "id": "17187ca0",
   "metadata": {},
   "outputs": [
    {
     "data": {
      "text/plain": [
       "(32, 11)"
      ]
     },
     "execution_count": 91,
     "metadata": {},
     "output_type": "execute_result"
    }
   ],
   "source": [
    "mtcars.shape # row, column"
   ]
  },
  {
   "cell_type": "code",
   "execution_count": 92,
   "id": "fbe7352f",
   "metadata": {},
   "outputs": [
    {
     "data": {
      "text/plain": [
       "mpg     32\n",
       "cyl     32\n",
       "disp    32\n",
       "hp      32\n",
       "drat    32\n",
       "wt      32\n",
       "qsec    32\n",
       "vs      32\n",
       "am      32\n",
       "gear    32\n",
       "carb    32\n",
       "dtype: int64"
      ]
     },
     "execution_count": 92,
     "metadata": {},
     "output_type": "execute_result"
    }
   ],
   "source": [
    "mtcars.notnull().sum(axis=0) # conts column sum for axis=0"
   ]
  },
  {
   "cell_type": "code",
   "execution_count": 93,
   "id": "b0b71f90",
   "metadata": {},
   "outputs": [
    {
     "data": {
      "text/plain": [
       "Mazda RX4              11\n",
       "Mazda RX4 Wag          11\n",
       "Datsun 710             11\n",
       "Hornet 4 Drive         11\n",
       "Hornet Sportabout      11\n",
       "Valiant                11\n",
       "Duster 360             11\n",
       "Merc 240D              11\n",
       "Merc 230               11\n",
       "Merc 280               11\n",
       "Merc 280C              11\n",
       "Merc 450SE             11\n",
       "Merc 450SL             11\n",
       "Merc 450SLC            11\n",
       "Cadillac Fleetwood     11\n",
       "Lincoln Continental    11\n",
       "Chrysler Imperial      11\n",
       "Fiat 128               11\n",
       "Honda Civic            11\n",
       "Toyota Corolla         11\n",
       "Toyota Corona          11\n",
       "Dodge Challenger       11\n",
       "AMC Javelin            11\n",
       "Camaro Z28             11\n",
       "Pontiac Firebird       11\n",
       "Fiat X1-9              11\n",
       "Porsche 914-2          11\n",
       "Lotus Europa           11\n",
       "Ford Pantera L         11\n",
       "Ferrari Dino           11\n",
       "Maserati Bora          11\n",
       "Volvo 142E             11\n",
       "dtype: int64"
      ]
     },
     "execution_count": 93,
     "metadata": {},
     "output_type": "execute_result"
    }
   ],
   "source": [
    "mtcars.notnull().sum(axis=1) # counts row sum for axis =1"
   ]
  },
  {
   "cell_type": "code",
   "execution_count": 94,
   "id": "392feabb",
   "metadata": {},
   "outputs": [
    {
     "data": {
      "text/plain": [
       "0"
      ]
     },
     "execution_count": 94,
     "metadata": {},
     "output_type": "execute_result"
    }
   ],
   "source": [
    "mtcars.duplicated().sum() # duplicate values finding"
   ]
  },
  {
   "cell_type": "code",
   "execution_count": 95,
   "id": "52fca305",
   "metadata": {},
   "outputs": [
    {
     "data": {
      "text/html": [
       "<div>\n",
       "<style scoped>\n",
       "    .dataframe tbody tr th:only-of-type {\n",
       "        vertical-align: middle;\n",
       "    }\n",
       "\n",
       "    .dataframe tbody tr th {\n",
       "        vertical-align: top;\n",
       "    }\n",
       "\n",
       "    .dataframe thead th {\n",
       "        text-align: right;\n",
       "    }\n",
       "</style>\n",
       "<table border=\"1\" class=\"dataframe\">\n",
       "  <thead>\n",
       "    <tr style=\"text-align: right;\">\n",
       "      <th></th>\n",
       "      <th>car</th>\n",
       "      <th>mpg</th>\n",
       "      <th>cyl</th>\n",
       "      <th>disp</th>\n",
       "      <th>hp</th>\n",
       "      <th>drat</th>\n",
       "      <th>wt</th>\n",
       "      <th>qsec</th>\n",
       "      <th>vs</th>\n",
       "      <th>am</th>\n",
       "      <th>gear</th>\n",
       "      <th>carb</th>\n",
       "    </tr>\n",
       "  </thead>\n",
       "  <tbody>\n",
       "    <tr>\n",
       "      <th>0</th>\n",
       "      <td>Mazda RX4</td>\n",
       "      <td>21.0</td>\n",
       "      <td>6</td>\n",
       "      <td>160.0</td>\n",
       "      <td>110</td>\n",
       "      <td>3.90</td>\n",
       "      <td>2.620</td>\n",
       "      <td>16.46</td>\n",
       "      <td>0</td>\n",
       "      <td>1</td>\n",
       "      <td>4</td>\n",
       "      <td>4</td>\n",
       "    </tr>\n",
       "    <tr>\n",
       "      <th>1</th>\n",
       "      <td>Mazda RX4 Wag</td>\n",
       "      <td>21.0</td>\n",
       "      <td>6</td>\n",
       "      <td>160.0</td>\n",
       "      <td>110</td>\n",
       "      <td>3.90</td>\n",
       "      <td>2.875</td>\n",
       "      <td>17.02</td>\n",
       "      <td>0</td>\n",
       "      <td>1</td>\n",
       "      <td>4</td>\n",
       "      <td>4</td>\n",
       "    </tr>\n",
       "    <tr>\n",
       "      <th>2</th>\n",
       "      <td>Datsun 710</td>\n",
       "      <td>22.8</td>\n",
       "      <td>4</td>\n",
       "      <td>108.0</td>\n",
       "      <td>93</td>\n",
       "      <td>3.85</td>\n",
       "      <td>2.320</td>\n",
       "      <td>18.61</td>\n",
       "      <td>1</td>\n",
       "      <td>1</td>\n",
       "      <td>4</td>\n",
       "      <td>1</td>\n",
       "    </tr>\n",
       "    <tr>\n",
       "      <th>3</th>\n",
       "      <td>Hornet 4 Drive</td>\n",
       "      <td>21.4</td>\n",
       "      <td>6</td>\n",
       "      <td>258.0</td>\n",
       "      <td>110</td>\n",
       "      <td>3.08</td>\n",
       "      <td>3.215</td>\n",
       "      <td>19.44</td>\n",
       "      <td>1</td>\n",
       "      <td>0</td>\n",
       "      <td>3</td>\n",
       "      <td>1</td>\n",
       "    </tr>\n",
       "    <tr>\n",
       "      <th>4</th>\n",
       "      <td>Hornet Sportabout</td>\n",
       "      <td>18.7</td>\n",
       "      <td>8</td>\n",
       "      <td>360.0</td>\n",
       "      <td>175</td>\n",
       "      <td>3.15</td>\n",
       "      <td>3.440</td>\n",
       "      <td>17.02</td>\n",
       "      <td>0</td>\n",
       "      <td>0</td>\n",
       "      <td>3</td>\n",
       "      <td>2</td>\n",
       "    </tr>\n",
       "  </tbody>\n",
       "</table>\n",
       "</div>"
      ],
      "text/plain": [
       "                 car   mpg  cyl   disp   hp  drat     wt   qsec  vs  am  gear  \\\n",
       "0          Mazda RX4  21.0    6  160.0  110  3.90  2.620  16.46   0   1     4   \n",
       "1      Mazda RX4 Wag  21.0    6  160.0  110  3.90  2.875  17.02   0   1     4   \n",
       "2         Datsun 710  22.8    4  108.0   93  3.85  2.320  18.61   1   1     4   \n",
       "3     Hornet 4 Drive  21.4    6  258.0  110  3.08  3.215  19.44   1   0     3   \n",
       "4  Hornet Sportabout  18.7    8  360.0  175  3.15  3.440  17.02   0   0     3   \n",
       "\n",
       "   carb  \n",
       "0     4  \n",
       "1     4  \n",
       "2     1  \n",
       "3     1  \n",
       "4     2  "
      ]
     },
     "execution_count": 95,
     "metadata": {},
     "output_type": "execute_result"
    }
   ],
   "source": [
    "mtcars2 = mtcars.copy().reset_index().rename(columns={'index':'car'})  #duplicate, reset_index (rownames to column by index), rename by index to car\n",
    "mtcars2.head()"
   ]
  },
  {
   "cell_type": "code",
   "execution_count": 106,
   "id": "cd97b49b",
   "metadata": {},
   "outputs": [
    {
     "name": "stdout",
     "output_type": "stream",
     "text": [
      "         car   mpg  cyl   disp   hp  drat    wt   qsec  vs  am  gear  carb\n",
      "0  Mazda RX4  21.0    6  160.0  110   3.9  2.62  16.46   0   1     4     4\n"
     ]
    }
   ],
   "source": [
    "mazda=mtcars2[mtcars2[\"car\"]==\"Mazda RX4\"]\n",
    "print(mazda)"
   ]
  },
  {
   "cell_type": "code",
   "execution_count": 107,
   "id": "a9615e27",
   "metadata": {},
   "outputs": [
    {
     "name": "stdout",
     "output_type": "stream",
     "text": [
      "          car   mpg  cyl   disp  hp  drat    wt   qsec  vs  am  gear  carb\n",
      "2  Datsun 710  22.8    4  108.0  93  3.85  2.32  18.61   1   1     4     1\n"
     ]
    }
   ],
   "source": [
    "datsun=mtcars2[mtcars2['car']=='Datsun 710']\n",
    "print(datsun)"
   ]
  },
  {
   "cell_type": "code",
   "execution_count": 110,
   "id": "90004701",
   "metadata": {},
   "outputs": [
    {
     "name": "stdout",
     "output_type": "stream",
     "text": [
      "                    car   mpg  cyl   disp   hp  drat     wt   qsec  vs  am  \\\n",
      "0             Mazda RX4  21.0    6  160.0  110  3.90  2.620  16.46   0   1   \n",
      "1         Mazda RX4 Wag  21.0    6  160.0  110  3.90  2.875  17.02   0   1   \n",
      "2            Datsun 710  22.8    4  108.0   93  3.85  2.320  18.61   1   1   \n",
      "3        Hornet 4 Drive  21.4    6  258.0  110  3.08  3.215  19.44   1   0   \n",
      "4     Hornet Sportabout  18.7    8  360.0  175  3.15  3.440  17.02   0   0   \n",
      "5               Valiant  18.1    6  225.0  105  2.76  3.460  20.22   1   0   \n",
      "6            Duster 360  14.3    8  360.0  245  3.21  3.570  15.84   0   0   \n",
      "7             Merc 240D  24.4    4  146.7   62  3.69  3.190  20.00   1   0   \n",
      "8              Merc 230  22.8    4  140.8   95  3.92  3.150  22.90   1   0   \n",
      "9              Merc 280  19.2    6  167.6  123  3.92  3.440  18.30   1   0   \n",
      "10            Merc 280C  17.8    6  167.6  123  3.92  3.440  18.90   1   0   \n",
      "11           Merc 450SE  16.4    8  275.8  180  3.07  4.070  17.40   0   0   \n",
      "12           Merc 450SL  17.3    8  275.8  180  3.07  3.730  17.60   0   0   \n",
      "13          Merc 450SLC  15.2    8  275.8  180  3.07  3.780  18.00   0   0   \n",
      "14   Cadillac Fleetwood  10.4    8  472.0  205  2.93  5.250  17.98   0   0   \n",
      "15  Lincoln Continental  10.4    8  460.0  215  3.00  5.424  17.82   0   0   \n",
      "16    Chrysler Imperial  14.7    8  440.0  230  3.23  5.345  17.42   0   0   \n",
      "17             Fiat 128  32.4    4   78.7   66  4.08  2.200  19.47   1   1   \n",
      "18          Honda Civic  30.4    4   75.7   52  4.93  1.615  18.52   1   1   \n",
      "19       Toyota Corolla  33.9    4   71.1   65  4.22  1.835  19.90   1   1   \n",
      "20        Toyota Corona  21.5    4  120.1   97  3.70  2.465  20.01   1   0   \n",
      "21     Dodge Challenger  15.5    8  318.0  150  2.76  3.520  16.87   0   0   \n",
      "22          AMC Javelin  15.2    8  304.0  150  3.15  3.435  17.30   0   0   \n",
      "23           Camaro Z28  13.3    8  350.0  245  3.73  3.840  15.41   0   0   \n",
      "24     Pontiac Firebird  19.2    8  400.0  175  3.08  3.845  17.05   0   0   \n",
      "25            Fiat X1-9  27.3    4   79.0   66  4.08  1.935  18.90   1   1   \n",
      "26        Porsche 914-2  26.0    4  120.3   91  4.43  2.140  16.70   0   1   \n",
      "27         Lotus Europa  30.4    4   95.1  113  3.77  1.513  16.90   1   1   \n",
      "28       Ford Pantera L  15.8    8  351.0  264  4.22  3.170  14.50   0   1   \n",
      "29         Ferrari Dino  19.7    6  145.0  175  3.62  2.770  15.50   0   1   \n",
      "30        Maserati Bora  15.0    8  301.0  335  3.54  3.570  14.60   0   1   \n",
      "31           Volvo 142E  21.4    4  121.0  109  4.11  2.780  18.60   1   1   \n",
      "32            Mazda RX4  21.0    6  160.0  110  3.90  2.620  16.46   0   1   \n",
      "33           Datsun 710  22.8    4  108.0   93  3.85  2.320  18.61   1   1   \n",
      "34            Mazda RX4  21.0    6  160.0  110  3.90  2.620  16.46   0   1   \n",
      "\n",
      "    gear  carb  \n",
      "0      4     4  \n",
      "1      4     4  \n",
      "2      4     1  \n",
      "3      3     1  \n",
      "4      3     2  \n",
      "5      3     1  \n",
      "6      3     4  \n",
      "7      4     2  \n",
      "8      4     2  \n",
      "9      4     4  \n",
      "10     4     4  \n",
      "11     3     3  \n",
      "12     3     3  \n",
      "13     3     3  \n",
      "14     3     4  \n",
      "15     3     4  \n",
      "16     3     4  \n",
      "17     4     1  \n",
      "18     4     2  \n",
      "19     4     1  \n",
      "20     3     1  \n",
      "21     3     2  \n",
      "22     3     2  \n",
      "23     3     4  \n",
      "24     3     2  \n",
      "25     4     1  \n",
      "26     5     2  \n",
      "27     5     2  \n",
      "28     5     4  \n",
      "29     5     6  \n",
      "30     5     8  \n",
      "31     4     2  \n",
      "32     4     4  \n",
      "33     4     1  \n",
      "34     4     4  \n"
     ]
    }
   ],
   "source": [
    "new_table=pd.concat([mtcars2,mazda,datsun,mazda], ignore_index=True)\n",
    "print(new_table )"
   ]
  },
  {
   "cell_type": "code",
   "execution_count": null,
   "id": "c4f852c3",
   "metadata": {},
   "outputs": [],
   "source": []
  }
 ],
 "metadata": {
  "kernelspec": {
   "display_name": "Python 3 (ipykernel)",
   "language": "python",
   "name": "python3"
  },
  "language_info": {
   "codemirror_mode": {
    "name": "ipython",
    "version": 3
   },
   "file_extension": ".py",
   "mimetype": "text/x-python",
   "name": "python",
   "nbconvert_exporter": "python",
   "pygments_lexer": "ipython3",
   "version": "3.9.13"
  }
 },
 "nbformat": 4,
 "nbformat_minor": 5
}
