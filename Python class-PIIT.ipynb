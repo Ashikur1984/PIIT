{
 "cells": [
  {
   "cell_type": "markdown",
   "id": "7244e642",
   "metadata": {},
   "source": [
    "LIST"
   ]
  },
  {
   "cell_type": "code",
   "execution_count": 4,
   "id": "d7a1232c",
   "metadata": {},
   "outputs": [],
   "source": [
    "x1=[1,2,\"Ome\",True,1.25]"
   ]
  },
  {
   "cell_type": "code",
   "execution_count": 5,
   "id": "ecbbd5b1",
   "metadata": {},
   "outputs": [
    {
     "data": {
      "text/plain": [
       "list"
      ]
     },
     "execution_count": 5,
     "metadata": {},
     "output_type": "execute_result"
    }
   ],
   "source": [
    "type(x1)"
   ]
  },
  {
   "cell_type": "code",
   "execution_count": 7,
   "id": "2142e024",
   "metadata": {},
   "outputs": [
    {
     "data": {
      "text/plain": [
       "2"
      ]
     },
     "execution_count": 7,
     "metadata": {},
     "output_type": "execute_result"
    }
   ],
   "source": [
    "x1[True]"
   ]
  },
  {
   "cell_type": "code",
   "execution_count": 11,
   "id": "63070d9d",
   "metadata": {},
   "outputs": [],
   "source": [
    "X2=[1,2,1,3,5,4,7,6]"
   ]
  },
  {
   "cell_type": "code",
   "execution_count": 12,
   "id": "d638b3b2",
   "metadata": {},
   "outputs": [],
   "source": [
    "X2.sort()"
   ]
  },
  {
   "cell_type": "code",
   "execution_count": 13,
   "id": "42f3c404",
   "metadata": {},
   "outputs": [
    {
     "name": "stdout",
     "output_type": "stream",
     "text": [
      "[1, 1, 2, 3, 4, 5, 6, 7]\n"
     ]
    }
   ],
   "source": [
    "print(X2)"
   ]
  },
  {
   "cell_type": "code",
   "execution_count": 14,
   "id": "033525ac",
   "metadata": {},
   "outputs": [],
   "source": [
    "X2.sort(reverse=True)"
   ]
  },
  {
   "cell_type": "code",
   "execution_count": 15,
   "id": "841f5ac6",
   "metadata": {},
   "outputs": [
    {
     "name": "stdout",
     "output_type": "stream",
     "text": [
      "[7, 6, 5, 4, 3, 2, 1, 1]\n"
     ]
    }
   ],
   "source": [
    "print(X2)"
   ]
  },
  {
   "cell_type": "markdown",
   "id": "f4bff718",
   "metadata": {},
   "source": [
    "# Seperator"
   ]
  },
  {
   "cell_type": "code",
   "execution_count": 16,
   "id": "8763118c",
   "metadata": {},
   "outputs": [
    {
     "name": "stdout",
     "output_type": "stream",
     "text": [
      "1,,,2,,,3\n"
     ]
    }
   ],
   "source": [
    "print(1,2,3,sep=\",,,\")"
   ]
  },
  {
   "cell_type": "code",
   "execution_count": 20,
   "id": "3dadc358",
   "metadata": {},
   "outputs": [
    {
     "name": "stdout",
     "output_type": "stream",
     "text": [
      "Ashikur-Rahman\n",
      "\n",
      "I am\n"
     ]
    }
   ],
   "source": [
    "print(\"Ashikur\",\"Rahman\", sep=\"-\", end=\"\\n\\n\")\n",
    "print(\"I am\" )"
   ]
  },
  {
   "cell_type": "code",
   "execution_count": 17,
   "id": "5cab3a0c",
   "metadata": {},
   "outputs": [
    {
     "name": "stdout",
     "output_type": "stream",
     "text": [
      "1 2 3...."
     ]
    }
   ],
   "source": [
    "print(1,2,3,end=\"....\")"
   ]
  },
  {
   "cell_type": "markdown",
   "id": "9d59ec10-fea4-45df-a34a-4d38e7edd778",
   "metadata": {},
   "source": [
    "# Directory of tuple"
   ]
  },
  {
   "cell_type": "code",
   "execution_count": 22,
   "id": "c5857740-81f5-43cc-b96c-7ebabf9f7270",
   "metadata": {},
   "outputs": [
    {
     "name": "stdout",
     "output_type": "stream",
     "text": [
      "['__add__', '__class__', '__class_getitem__', '__contains__', '__delattr__', '__dir__', '__doc__', '__eq__', '__format__', '__ge__', '__getattribute__', '__getitem__', '__getnewargs__', '__gt__', '__hash__', '__init__', '__init_subclass__', '__iter__', '__le__', '__len__', '__lt__', '__mul__', '__ne__', '__new__', '__reduce__', '__reduce_ex__', '__repr__', '__rmul__', '__setattr__', '__sizeof__', '__str__', '__subclasshook__', 'count', 'index'] \t\n"
     ]
    }
   ],
   "source": [
    "print(dir(tuple),\"\\t\")"
   ]
  },
  {
   "cell_type": "markdown",
   "id": "00972fa3-36e6-460c-900b-837e6736cd4d",
   "metadata": {},
   "source": [
    "# Dictionary"
   ]
  },
  {
   "cell_type": "code",
   "execution_count": 29,
   "id": "8ded1fcc-fa25-456b-a0c1-c49c962e1d1d",
   "metadata": {},
   "outputs": [],
   "source": [
    "student={\"Name\": \"Ashik\",\n",
    "         \"Age\":39,\n",
    "        \"GPA\":3.5}"
   ]
  },
  {
   "cell_type": "code",
   "execution_count": 30,
   "id": "ffed3625-02d6-4a39-b690-c8fe2cb6a8ab",
   "metadata": {},
   "outputs": [
    {
     "name": "stdout",
     "output_type": "stream",
     "text": [
      "{'Name': 'Ashik', 'Age': 39, 'GPA': 3.5}\n"
     ]
    }
   ],
   "source": [
    "print(student)"
   ]
  },
  {
   "cell_type": "code",
   "execution_count": 31,
   "id": "e136722c-5d1c-4342-99e1-87fca0b9ac4d",
   "metadata": {},
   "outputs": [
    {
     "name": "stdout",
     "output_type": "stream",
     "text": [
      "Ashik\n"
     ]
    }
   ],
   "source": [
    "print(student[\"Name\"])"
   ]
  },
  {
   "cell_type": "code",
   "execution_count": 32,
   "id": "1e4cae4c-edc4-4443-a03e-2c949a2a2a5c",
   "metadata": {},
   "outputs": [],
   "source": [
    "student[\"Age\"]=38"
   ]
  },
  {
   "cell_type": "code",
   "execution_count": 33,
   "id": "e475c0b0-b296-4a79-b14b-42006a890a5e",
   "metadata": {},
   "outputs": [
    {
     "name": "stdout",
     "output_type": "stream",
     "text": [
      "{'Name': 'Ashik', 'Age': 38, 'GPA': 3.5}\n"
     ]
    }
   ],
   "source": [
    "print(student)"
   ]
  },
  {
   "cell_type": "code",
   "execution_count": 36,
   "id": "a0c5f38b-e014-41fe-8110-8b8a4d57095a",
   "metadata": {},
   "outputs": [],
   "source": [
    "del student[\"Age\"]"
   ]
  },
  {
   "cell_type": "code",
   "execution_count": 37,
   "id": "40f5fe0d-eaa4-4036-863b-3fa9ea1fd379",
   "metadata": {},
   "outputs": [
    {
     "name": "stdout",
     "output_type": "stream",
     "text": [
      "{'Name': 'Ashik', 'GPA': 3.5}\n"
     ]
    }
   ],
   "source": [
    "print(student)"
   ]
  },
  {
   "cell_type": "markdown",
   "id": "27909240-3cb7-4386-b4d5-c06ec7dd88cc",
   "metadata": {},
   "source": [
    "# SET"
   ]
  },
  {
   "cell_type": "code",
   "execution_count": 38,
   "id": "110539fa-00ec-4a4c-9eb1-76c169103c94",
   "metadata": {},
   "outputs": [],
   "source": [
    "data={1,2,3,5}"
   ]
  },
  {
   "cell_type": "code",
   "execution_count": 45,
   "id": "ae1ef9a8-bd3b-4870-b3c4-99786200b597",
   "metadata": {},
   "outputs": [
    {
     "name": "stdout",
     "output_type": "stream",
     "text": [
      "{1, 2, 3, 5}\n"
     ]
    }
   ],
   "source": [
    "print(data)"
   ]
  },
  {
   "cell_type": "code",
   "execution_count": 48,
   "id": "1c97d778-8a65-419e-82db-897257cbe1f1",
   "metadata": {},
   "outputs": [],
   "source": [
    "t1=(\"USA\", \"Bangladesh\")"
   ]
  },
  {
   "cell_type": "code",
   "execution_count": 49,
   "id": "4a42be29-76be-4fc2-8a42-84b2c4329492",
   "metadata": {},
   "outputs": [
    {
     "data": {
      "text/plain": [
       "True"
      ]
     },
     "execution_count": 49,
     "metadata": {},
     "output_type": "execute_result"
    }
   ],
   "source": [
    "\"Bangladesh\" in t1"
   ]
  },
  {
   "cell_type": "code",
   "execution_count": null,
   "id": "49b4ca3f-f6d4-413f-9213-6577fb21e4c0",
   "metadata": {},
   "outputs": [],
   "source": []
  }
 ],
 "metadata": {
  "kernelspec": {
   "display_name": "Python 3 (ipykernel)",
   "language": "python",
   "name": "python3"
  },
  "language_info": {
   "codemirror_mode": {
    "name": "ipython",
    "version": 3
   },
   "file_extension": ".py",
   "mimetype": "text/x-python",
   "name": "python",
   "nbconvert_exporter": "python",
   "pygments_lexer": "ipython3",
   "version": "3.9.13"
  }
 },
 "nbformat": 4,
 "nbformat_minor": 5
}
